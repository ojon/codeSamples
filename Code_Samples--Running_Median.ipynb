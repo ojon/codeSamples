{
 "cells": [
  {
   "cell_type": "markdown",
   "metadata": {},
   "source": [
    "# Running Median\n",
    "\n",
    "## Problem\n",
    "\n",
    "The median of a dataset of integers is the midpoint value of the dataset for which an equal number of integers are less than and greater than the value. To find the median, you must first sort your dataset of integers in non-decreasing order, then:\n",
    "\n",
    "If your dataset contains an odd number of elements, the median is the middle element of the sorted sample. In the sorted dataset $\\{1, 2, 3\\}$, $2$ is the median.\n",
    "If your dataset contains an even number of elements, the median is the average of the two middle elements of the sorted sample. In the sorted dataset $\\{1, 2, 3, 4\\}$, $\\frac{2 + 3}{2} = 2.5$ is the median.\n",
    "\n",
    "Given an input stream of  integers, you must perform the following task for each  integer:\n",
    "\n",
    "1. Add the $i^{th}$ integer to a running list of integers.\n",
    "2. Find the median of the updated list (i.e., for the first $i^{th}$ element through the  element).\n",
    "\n",
    "3. Print the list's updated median on a new line. The printed value must be a double-precision number scaled to 1 decimal place (i.e., $12.3$  format)."
   ]
  },
  {
   "cell_type": "markdown",
   "metadata": {},
   "source": [
    "## Solution 1"
   ]
  },
  {
   "cell_type": "markdown",
   "metadata": {},
   "source": [
    "This solution will use 2 heaps, a known data structure."
   ]
  },
  {
   "cell_type": "code",
   "execution_count": 1,
   "metadata": {},
   "outputs": [],
   "source": [
    "import operator"
   ]
  },
  {
   "cell_type": "code",
   "execution_count": 2,
   "metadata": {},
   "outputs": [],
   "source": [
    "class Heap:\n",
    "    ''' A simple heap data structure that only allows insertions \n",
    "\n",
    "\n",
    "    '''\n",
    "\n",
    "    def __init__(self, comparator=operator.lt):\n",
    "        '''\n",
    "            comparator(p, c): comparator function, returns true if\n",
    "            the relation between p and c violate the heap structure\n",
    "        '''\n",
    "        self.heapList = [None]\n",
    "        self.compare = comparator\n",
    "\n",
    "    def swim(self, k):\n",
    "        heapList = self.heapList\n",
    "        while k > 1 and self.compare(heapList[k // 2], heapList[k]):\n",
    "            heapList[k // 2], heapList[k] = heapList[k], heapList[k // 2]\n",
    "            k = k // 2\n",
    "\n",
    "    def sink(self, k):\n",
    "        heapList = self.heapList\n",
    "        N = len(heapList) - 1\n",
    "        while 2 * k <= N:\n",
    "            j = 2 * k\n",
    "            if j < N and self.compare(heapList[j], heapList[j + 1]):\n",
    "                j += 1\n",
    "            if not self.compare(heapList[k], heapList[j]):\n",
    "                break\n",
    "            heapList[k], heapList[j] = heapList[j], heapList[k]\n",
    "            k = j\n",
    "\n",
    "    def insert(self, item):\n",
    "        self.heapList.append(item)\n",
    "        self.swim(len(self.heapList) - 1)\n",
    "\n",
    "    def removeRoot(self):\n",
    "        heapList = self.heapList\n",
    "        old_root = heapList[1]\n",
    "        heapList[1] = heapList.pop()\n",
    "        self.sink(1)\n",
    "        return old_root\n",
    "\n",
    "    def getRoot(self):\n",
    "        if len(self.heapList) > 1:\n",
    "            return self.heapList[1]\n",
    "        else: \n",
    "            return None\n",
    "\n",
    "    def getSize(self):\n",
    "        return len(self.heapList)"
   ]
  },
  {
   "cell_type": "markdown",
   "metadata": {},
   "source": [
    "The ideia is split the list in half and mantain each half in a heap. The heap with the lower half has the maximum at the root and heap with the upper half the minimun. The ideia is keep the root of the lower half heap lesser than the root of the upper half heap and the number of elements of both with a max diference of 1 element. The median will be the mean of the two roots in case both heaps has the same amount of elements or the root of the heap with more elements."
   ]
  },
  {
   "cell_type": "code",
   "execution_count": 3,
   "metadata": {},
   "outputs": [],
   "source": [
    "class ListWithMedian:\n",
    "    \"\"\"\n",
    "        A list that provides the running median as you insert elements in it\n",
    "    \"\"\"\n",
    "\n",
    "    def __init__(self):\n",
    "        self.maxHeap = Heap(operator.lt)\n",
    "        self.minHeap = Heap(operator.gt)\n",
    "        self.N = 0\n",
    "\n",
    "    def balanceHeaps(self):\n",
    "        \"\"\"\n",
    "        Auxiliary method to keep max diference among number of \n",
    "        heaps elements lesser than 1        \n",
    "\n",
    "        \"\"\"\n",
    "        maxHeap = self.maxHeap\n",
    "        minHeap = self.minHeap\n",
    "        if (maxHeap.getSize() + 1) < minHeap.getSize():\n",
    "            maxHeap.insert(minHeap.removeRoot())\n",
    "        elif maxHeap.getSize() > (minHeap.getSize() + 1):\n",
    "            minHeap.insert(maxHeap.removeRoot())\n",
    "\n",
    "    def insert(self, item):\n",
    "        \"\"\"\n",
    "        Inserts a item in the list of numbers an return the median       \n",
    "\n",
    "        \"\"\"\n",
    "        maxHeap = self.maxHeap\n",
    "        minHeap = self.minHeap\n",
    "\n",
    "        if (maxHeap.getRoot() is not None) and item < maxHeap.getRoot():\n",
    "            maxHeap.insert(item)\n",
    "        elif (minHeap.getRoot() is not None) and item > minHeap.getRoot():\n",
    "            minHeap.insert(item)\n",
    "        elif maxHeap.getSize() == minHeap.getSize():\n",
    "            median = item\n",
    "            maxHeap.insert(item)\n",
    "            return median\n",
    "        elif maxHeap.getSize() < minHeap.getSize():\n",
    "            maxHeap.insert(item)\n",
    "            median = (maxHeap.getRoot() + minHeap.getRoot()) / 2\n",
    "            return median\n",
    "        elif maxHeap.getSize() > minHeap.getSize():\n",
    "            minHeap.insert(item)\n",
    "            median = (maxHeap.getRoot() + minHeap.getRoot()) / 2\n",
    "            return median\n",
    "\n",
    "        self.balanceHeaps()\n",
    "\n",
    "        if maxHeap.getSize() == minHeap.getSize():\n",
    "            median = (maxHeap.getRoot() + minHeap.getRoot()) / 2\n",
    "            return median\n",
    "        elif maxHeap.getSize() > minHeap.getSize():\n",
    "            median = maxHeap.getRoot()\n",
    "            return median\n",
    "        elif maxHeap.getSize() < minHeap.getSize():\n",
    "            median = minHeap.getRoot()\n",
    "            return median"
   ]
  },
  {
   "cell_type": "code",
   "execution_count": 4,
   "metadata": {},
   "outputs": [
    {
     "name": "stderr",
     "output_type": "stream",
     "text": [
      ".\n",
      "----------------------------------------------------------------------\n",
      "Ran 1 test in 0.003s\n",
      "\n",
      "OK\n"
     ]
    }
   ],
   "source": [
    "import unittest\n",
    "\n",
    "class TestRunningMedian(unittest.TestCase):    \n",
    "\n",
    "    def test_RunningMedian_example_1(self):\n",
    "        \"\"\"Test Running median.\"\"\"\n",
    "        testlist = ListWithMedian()\n",
    "        actual = []\n",
    "        actual.append(testlist.insert(12))\n",
    "        actual.append(testlist.insert(4))\n",
    "        actual.append(testlist.insert(5))\n",
    "        actual.append(testlist.insert(3))\n",
    "        actual.append(testlist.insert(8))\n",
    "        actual.append(testlist.insert(7))\n",
    "        \n",
    "        expected = [12.0, 8.0, 5.0, 4.5, 5.0, 6.0]\n",
    "        self.assertEqual(expected, actual)\n",
    "\n",
    "    \n",
    "if __name__ == '__main__':\n",
    "    unittest.main(argv=['first-arg-is-ignored'], exit=False)"
   ]
  },
  {
   "cell_type": "markdown",
   "metadata": {},
   "source": [
    "## Discussion\n",
    "\n",
    "I choosed to implement the heap myself as an exercise, would be possible to use `heapq` python module as an alternative, although it does not provide functions as flexible as the object I implemented.\n",
    "\n",
    "The time complexity of an insertion in a heap is O(log n) in the case we have to swim the item all way up. So is to remove the root in case we have sink the last element all way down. Therefore to calculate the median of n elements we have a O(n log n) algorithm."
   ]
  }
 ],
 "metadata": {
  "kernelspec": {
   "display_name": "Python 3",
   "language": "python",
   "name": "python3"
  },
  "language_info": {
   "codemirror_mode": {
    "name": "ipython",
    "version": 3
   },
   "file_extension": ".py",
   "mimetype": "text/x-python",
   "name": "python",
   "nbconvert_exporter": "python",
   "pygments_lexer": "ipython3",
   "version": "3.6.5"
  },
  "varInspector": {
   "cols": {
    "lenName": "32",
    "lenType": "32",
    "lenVar": 40
   },
   "kernels_config": {
    "python": {
     "delete_cmd_postfix": "",
     "delete_cmd_prefix": "del ",
     "library": "var_list.py",
     "varRefreshCmd": "print(var_dic_list())"
    },
    "r": {
     "delete_cmd_postfix": ") ",
     "delete_cmd_prefix": "rm(",
     "library": "var_list.r",
     "varRefreshCmd": "cat(var_dic_list()) "
    }
   },
   "types_to_exclude": [
    "module",
    "function",
    "builtin_function_or_method",
    "instance",
    "_Feature"
   ],
   "window_display": true
  }
 },
 "nbformat": 4,
 "nbformat_minor": 2
}
