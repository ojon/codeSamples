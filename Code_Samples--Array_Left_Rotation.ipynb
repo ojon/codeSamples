{
 "cells": [
  {
   "cell_type": "markdown",
   "metadata": {},
   "source": [
    "# Code Samples - Arrays Left Rotation\n",
    "by João Oda"
   ]
  },
  {
   "cell_type": "markdown",
   "metadata": {},
   "source": [
    "## The problem\n",
    "\n",
    "A left rotation operation on an array of size $n$ shifts each of the array's elements $1$ unit to the left. For example, if $2$ left rotations are performed on array $[1,2,3,4,5]$, then the array would become $[1,2,3,4,5]$.\n",
    "\n",
    "Given an array of $n$ integers and a number, $d$, perform $d$ left rotations on the array. Then print the updated array.\n"
   ]
  },
  {
   "cell_type": "code",
   "execution_count": 1,
   "metadata": {},
   "outputs": [],
   "source": [
    "import random\n",
    "import doctest\n",
    "import cProfile\n",
    "import numpy as np"
   ]
  },
  {
   "cell_type": "markdown",
   "metadata": {},
   "source": [
    "### Solution 1"
   ]
  },
  {
   "cell_type": "code",
   "execution_count": 2,
   "metadata": {},
   "outputs": [
    {
     "data": {
      "text/plain": [
       "TestResults(failed=0, attempted=4)"
      ]
     },
     "execution_count": 2,
     "metadata": {},
     "output_type": "execute_result"
    }
   ],
   "source": [
    "def leftRotation1(a, d):\n",
    "    \"\"\" (list,int) -> list\n",
    "\n",
    "    Return a list l equals to a after d left rotations.\n",
    "\n",
    "    >>> leftRotation1([1, 2, 3, 4, 5], 4)\n",
    "    [5, 1, 2, 3, 4]\n",
    "    >>> leftRotation1([7, 2, 3, 4, 11], 2)\n",
    "    [3, 4, 11, 7, 2]\n",
    "    >>> leftRotation1([1, 2, 3], 0)\n",
    "    [1, 2, 3]\n",
    "    >>> leftRotation1([1], 5)\n",
    "    [1]\n",
    "    \n",
    "    \n",
    "    \"\"\"\n",
    "    l = []\n",
    "    i = 0\n",
    "    while i < len(a):\n",
    "        l.append(a[(i + d) % len(a)])\n",
    "        i = i + 1\n",
    "\n",
    "    return l\n",
    "\n",
    "\n",
    "doctest.testmod()"
   ]
  },
  {
   "cell_type": "code",
   "execution_count": 3,
   "metadata": {},
   "outputs": [
    {
     "name": "stdout",
     "output_type": "stream",
     "text": [
      "         45005 function calls in 0.045 seconds\n",
      "\n",
      "   Ordered by: standard name\n",
      "\n",
      "   ncalls  tottime  percall  cumtime  percall filename:lineno(function)\n",
      "        1    0.028    0.028    0.042    0.042 <ipython-input-2-3a2c51f33ec7>:1(leftRotation1)\n",
      "        1    0.002    0.002    0.045    0.045 <string>:1(<module>)\n",
      "        1    0.000    0.000    0.045    0.045 {built-in method builtins.exec}\n",
      "    30001    0.011    0.000    0.011    0.000 {built-in method builtins.len}\n",
      "    15000    0.003    0.000    0.003    0.000 {method 'append' of 'list' objects}\n",
      "        1    0.000    0.000    0.000    0.000 {method 'disable' of '_lsprof.Profiler' objects}\n",
      "\n",
      "\n"
     ]
    }
   ],
   "source": [
    "a = random.sample(range(1, 100000), 15000)\n",
    "d = 70\n",
    "cProfile.run('leftRotation1(a,d)')"
   ]
  },
  {
   "cell_type": "markdown",
   "metadata": {},
   "source": [
    "We see unecessary function calls of the method 'len'."
   ]
  },
  {
   "cell_type": "markdown",
   "metadata": {},
   "source": [
    "### Solution 1.1"
   ]
  },
  {
   "cell_type": "code",
   "execution_count": 4,
   "metadata": {},
   "outputs": [
    {
     "data": {
      "text/plain": [
       "TestResults(failed=0, attempted=8)"
      ]
     },
     "execution_count": 4,
     "metadata": {},
     "output_type": "execute_result"
    }
   ],
   "source": [
    "def leftRotation1_1(a, d):\n",
    "    \"\"\" (list,int) -> list\n",
    "\n",
    "    Return a list l equals to a after d left rotations.\n",
    "\n",
    "    >>> leftRotation1_1([1, 2, 3, 4, 5], 4)\n",
    "    [5, 1, 2, 3, 4]\n",
    "    >>> leftRotation1_1([7, 2, 3, 4, 11], 2)\n",
    "    [3, 4, 11, 7, 2]\n",
    "    >>> leftRotation1_1([1, 2, 3], 0)\n",
    "    [1, 2, 3]\n",
    "    >>> leftRotation1_1([1], 5)\n",
    "    [1]\n",
    "    \"\"\"\n",
    "    l = []\n",
    "    i = 0\n",
    "    n = len(a)\n",
    "    while i < n:\n",
    "        l.append(a[(i + d) % n])\n",
    "        i = i + 1\n",
    "\n",
    "    return l\n",
    "\n",
    "\n",
    "doctest.testmod()"
   ]
  },
  {
   "cell_type": "code",
   "execution_count": 5,
   "metadata": {},
   "outputs": [
    {
     "name": "stdout",
     "output_type": "stream",
     "text": [
      "         15005 function calls in 0.022 seconds\n",
      "\n",
      "   Ordered by: standard name\n",
      "\n",
      "   ncalls  tottime  percall  cumtime  percall filename:lineno(function)\n",
      "        1    0.018    0.018    0.021    0.021 <ipython-input-4-12e7f73d48bb>:1(leftRotation1_1)\n",
      "        1    0.000    0.000    0.021    0.021 <string>:1(<module>)\n",
      "        1    0.000    0.000    0.022    0.022 {built-in method builtins.exec}\n",
      "        1    0.000    0.000    0.000    0.000 {built-in method builtins.len}\n",
      "    15000    0.003    0.000    0.003    0.000 {method 'append' of 'list' objects}\n",
      "        1    0.000    0.000    0.000    0.000 {method 'disable' of '_lsprof.Profiler' objects}\n",
      "\n",
      "\n"
     ]
    }
   ],
   "source": [
    "cProfile.run('leftRotation1_1(a,d)')"
   ]
  },
  {
   "cell_type": "markdown",
   "metadata": {},
   "source": [
    "Using a variable n instead."
   ]
  },
  {
   "cell_type": "markdown",
   "metadata": {},
   "source": [
    "### Solution 2"
   ]
  },
  {
   "cell_type": "code",
   "execution_count": 6,
   "metadata": {},
   "outputs": [
    {
     "data": {
      "text/plain": [
       "TestResults(failed=0, attempted=12)"
      ]
     },
     "execution_count": 6,
     "metadata": {},
     "output_type": "execute_result"
    }
   ],
   "source": [
    "def leftRotation2(a, d):\n",
    "    \"\"\"\"\" (list,int) -> list\n",
    "\n",
    "    Return a list l equals to a after d left rotations.\n",
    "\n",
    "    >>> leftRotation2([1, 2, 3, 4, 5], 4)\n",
    "    [5, 1, 2, 3, 4]\n",
    "    >>> leftRotation2([7, 2, 3, 4, 11], 2)\n",
    "    [3, 4, 11, 7, 2]\n",
    "    >>> leftRotation2([1, 2, 3], 0)\n",
    "    [1, 2, 3]\n",
    "    >>> leftRotation2([1], 5)\n",
    "    [1]\n",
    "    \"\"\"\n",
    "    n = len(a)\n",
    "    l = [ a[(i + d) % n] for i in range(n) ]   \n",
    "    return l\n",
    "\n",
    "doctest.testmod()"
   ]
  },
  {
   "cell_type": "markdown",
   "metadata": {},
   "source": [
    "### Solution 3"
   ]
  },
  {
   "cell_type": "code",
   "execution_count": 7,
   "metadata": {},
   "outputs": [
    {
     "data": {
      "text/plain": [
       "TestResults(failed=0, attempted=16)"
      ]
     },
     "execution_count": 7,
     "metadata": {},
     "output_type": "execute_result"
    }
   ],
   "source": [
    "def leftRotation3(a, d):\n",
    "    \"\"\"\"\" (list,int) -> list\n",
    "\n",
    "    Return a list l equals to a after d left rotations.\n",
    "\n",
    "    >>> leftRotation3([1, 2, 3, 4, 5], 4)\n",
    "    [5, 1, 2, 3, 4]\n",
    "    >>> leftRotation3([7, 2, 3, 4, 11], 2)\n",
    "    [3, 4, 11, 7, 2]\n",
    "    >>> leftRotation3([1, 2, 3], 0)\n",
    "    [1, 2, 3]\n",
    "    >>> leftRotation3([1], 5)\n",
    "    [1]\n",
    "    \"\"\"\n",
    "    l = np.array(a)\n",
    "    return np.roll(l,-d).tolist()        \n",
    "\n",
    "doctest.testmod()"
   ]
  },
  {
   "cell_type": "markdown",
   "metadata": {},
   "source": [
    "### A few time tests"
   ]
  },
  {
   "cell_type": "markdown",
   "metadata": {},
   "source": [
    "small input"
   ]
  },
  {
   "cell_type": "code",
   "execution_count": 8,
   "metadata": {},
   "outputs": [
    {
     "name": "stdout",
     "output_type": "stream",
     "text": [
      "[59, 5, 66, 22, 68, 82, 19, 69, 80, 76, 2, 16, 60, 13, 51]\n"
     ]
    }
   ],
   "source": [
    "a = random.sample(range(1, 100), 15)\n",
    "d = 5\n",
    "print(a)"
   ]
  },
  {
   "cell_type": "code",
   "execution_count": 9,
   "metadata": {},
   "outputs": [
    {
     "name": "stdout",
     "output_type": "stream",
     "text": [
      "9.24 µs ± 372 ns per loop (mean ± std. dev. of 7 runs, 100000 loops each)\n"
     ]
    }
   ],
   "source": [
    "%%timeit\n",
    "leftRotation1_1(a,d)"
   ]
  },
  {
   "cell_type": "code",
   "execution_count": 10,
   "metadata": {},
   "outputs": [
    {
     "name": "stdout",
     "output_type": "stream",
     "text": [
      "7.49 µs ± 311 ns per loop (mean ± std. dev. of 7 runs, 100000 loops each)\n"
     ]
    }
   ],
   "source": [
    "%%timeit\n",
    "leftRotation2(a,d)"
   ]
  },
  {
   "cell_type": "code",
   "execution_count": 11,
   "metadata": {},
   "outputs": [
    {
     "name": "stdout",
     "output_type": "stream",
     "text": [
      "98.2 µs ± 3.14 µs per loop (mean ± std. dev. of 7 runs, 10000 loops each)\n"
     ]
    }
   ],
   "source": [
    "%%timeit\n",
    "leftRotation3(a,d)"
   ]
  },
  {
   "cell_type": "code",
   "execution_count": 12,
   "metadata": {},
   "outputs": [],
   "source": [
    "l = np.array(a)"
   ]
  },
  {
   "cell_type": "code",
   "execution_count": 13,
   "metadata": {},
   "outputs": [
    {
     "name": "stdout",
     "output_type": "stream",
     "text": [
      "82.2 µs ± 5.5 µs per loop (mean ± std. dev. of 7 runs, 10000 loops each)\n"
     ]
    }
   ],
   "source": [
    "%%timeit\n",
    "np.roll(l,-d)"
   ]
  },
  {
   "cell_type": "markdown",
   "metadata": {},
   "source": [
    "a larger input"
   ]
  },
  {
   "cell_type": "code",
   "execution_count": 14,
   "metadata": {},
   "outputs": [],
   "source": [
    "a = random.sample(range(1, 100000), 15000)\n",
    "d = 50"
   ]
  },
  {
   "cell_type": "code",
   "execution_count": 15,
   "metadata": {},
   "outputs": [
    {
     "name": "stdout",
     "output_type": "stream",
     "text": [
      "10.5 ms ± 407 µs per loop (mean ± std. dev. of 7 runs, 100 loops each)\n"
     ]
    }
   ],
   "source": [
    "%%timeit\n",
    "leftRotation1_1(a,d)"
   ]
  },
  {
   "cell_type": "code",
   "execution_count": 16,
   "metadata": {},
   "outputs": [
    {
     "name": "stdout",
     "output_type": "stream",
     "text": [
      "5.75 ms ± 324 µs per loop (mean ± std. dev. of 7 runs, 100 loops each)\n"
     ]
    }
   ],
   "source": [
    "%%timeit\n",
    "leftRotation2(a,d)"
   ]
  },
  {
   "cell_type": "code",
   "execution_count": 17,
   "metadata": {},
   "outputs": [
    {
     "name": "stdout",
     "output_type": "stream",
     "text": [
      "8.04 ms ± 335 µs per loop (mean ± std. dev. of 7 runs, 100 loops each)\n"
     ]
    }
   ],
   "source": [
    "%%timeit\n",
    "leftRotation3(a,d)"
   ]
  },
  {
   "cell_type": "code",
   "execution_count": 18,
   "metadata": {},
   "outputs": [],
   "source": [
    "l = np.array(a)"
   ]
  },
  {
   "cell_type": "code",
   "execution_count": 19,
   "metadata": {},
   "outputs": [
    {
     "name": "stdout",
     "output_type": "stream",
     "text": [
      "102 µs ± 2.53 µs per loop (mean ± std. dev. of 7 runs, 10000 loops each)\n"
     ]
    }
   ],
   "source": [
    "%%timeit\n",
    "np.roll(l,-d)"
   ]
  },
  {
   "cell_type": "markdown",
   "metadata": {},
   "source": [
    "### Discussion"
   ]
  },
  {
   "cell_type": "markdown",
   "metadata": {},
   "source": [
    "The solutions 1 and 2 are based in the same ideia that I can obtain the index of an element of the original array from the index of the rotated array. In both cases I choose to create a new list instead of doing an inplace transformation. The algorithm is $O(N)$ in time and space.\n",
    "\n",
    "The difference between the the solution 1 and 2 is the use of list comprehension in the second implementation. The pros of list comprehension are you get a more compact syntax, in some cases a more readable math like expression and some increased time performance due to python optimizations(won't change the asymptotic behavior of the algorithm). The cons are it's harder to debug and can be confused when the logic is too long.\n",
    "Its possible to use a circular linked list and obtain an $O(d)$ algorithm in time, but in case you are eventually print it,you will end up traversing it in inevitably n iterations. \n",
    "\n",
    "The third option was to use the built-in function `roll` from the numpy module. For a small array we probably get an overhead using it, we also have the costs of shifting from a list to a `np.array` and back to list. But it worths in a scenario with larger arrays and where we are comfortable using`np.array` without shifting back and forward from another data structure."
   ]
  },
  {
   "cell_type": "code",
   "execution_count": null,
   "metadata": {},
   "outputs": [],
   "source": []
  }
 ],
 "metadata": {
  "kernelspec": {
   "display_name": "Python 3",
   "language": "python",
   "name": "python3"
  },
  "language_info": {
   "codemirror_mode": {
    "name": "ipython",
    "version": 3
   },
   "file_extension": ".py",
   "mimetype": "text/x-python",
   "name": "python",
   "nbconvert_exporter": "python",
   "pygments_lexer": "ipython3",
   "version": "3.6.5"
  },
  "varInspector": {
   "cols": {
    "lenName": "32",
    "lenType": "32",
    "lenVar": 40
   },
   "kernels_config": {
    "python": {
     "delete_cmd_postfix": "",
     "delete_cmd_prefix": "del ",
     "library": "var_list.py",
     "varRefreshCmd": "print(var_dic_list())"
    },
    "r": {
     "delete_cmd_postfix": ") ",
     "delete_cmd_prefix": "rm(",
     "library": "var_list.r",
     "varRefreshCmd": "cat(var_dic_list()) "
    }
   },
   "types_to_exclude": [
    "module",
    "function",
    "builtin_function_or_method",
    "instance",
    "_Feature"
   ],
   "window_display": true
  }
 },
 "nbformat": 4,
 "nbformat_minor": 2
}
