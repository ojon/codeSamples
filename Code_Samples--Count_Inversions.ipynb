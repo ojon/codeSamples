{
 "cells": [
  {
   "cell_type": "markdown",
   "metadata": {},
   "source": [
    "# Code Samples - Count Inversions\n",
    "by João Oda"
   ]
  },
  {
   "cell_type": "markdown",
   "metadata": {},
   "source": [
    "## The problem\n",
    "\n",
    "In an array, $[a_0, a_1, ..., a_{n-1}]$, where $a_k >= 0$, the elements at indices $i$ and $j$ (where $i$ < $j$) form an inversion if $a_i < a_j$. In other words, inverted elements $a_i$ and $a_j$ are considered to be \"out of order\". Write a function that recives a list of numbers and and count the number of invertions. \n",
    "\n",
    "Example:\n",
    "\n",
    "input: `[2, 1, 3, 1, 2]`\n",
    "\n",
    "output: `4`"
   ]
  },
  {
   "cell_type": "code",
   "execution_count": 1,
   "metadata": {},
   "outputs": [],
   "source": [
    "import doctest"
   ]
  },
  {
   "cell_type": "markdown",
   "metadata": {},
   "source": [
    "## The solution\n",
    "\n",
    "The key to the solution present here is recall the classical sorting algorithm mergesort.\n",
    "\n",
    "First let's assume we have two sorted list and we want to find the number of inversions between them. We also as get the sorted merged list from them."
   ]
  },
  {
   "cell_type": "code",
   "execution_count": 2,
   "metadata": {},
   "outputs": [
    {
     "data": {
      "text/plain": [
       "TestResults(failed=0, attempted=3)"
      ]
     },
     "execution_count": 2,
     "metadata": {},
     "output_type": "execute_result"
    }
   ],
   "source": [
    "def mergeInversions(l, r):\n",
    "    \"\"\" \n",
    "    (list, list) -> (list, int)\n",
    "\n",
    "    Recives two sorted lists and return a sorted \n",
    "    merged list from them and the number of invertions.\n",
    "\n",
    "    >>> mergeInversions([1,2],[3,4])\n",
    "    ([1, 2, 3, 4], 0)\n",
    "    >>> mergeInversions([1,2],[0,3])\n",
    "    ([0, 1, 2, 3], 2)\n",
    "    >>> mergeInversions([2,3],[1,3,5])\n",
    "    ([1, 2, 3, 3, 5], 2)\n",
    "\n",
    "    \"\"\"\n",
    "\n",
    "    n_l = len(l)\n",
    "    n_r = len(r)\n",
    "    n = n_l + n_r\n",
    "    invt = 0\n",
    "    i = 0\n",
    "    j = 0\n",
    "    k = 0\n",
    "    m = [None] * n\n",
    "\n",
    "    while i < n_l and j < n_r:\n",
    "        if l[i] <= r[j]:\n",
    "            m[k] = l[i]\n",
    "            i += 1\n",
    "        else:\n",
    "            invt += n_l - i\n",
    "            m[k] = r[j]\n",
    "            j += 1\n",
    "        k += 1\n",
    "\n",
    "    while i < n_l:\n",
    "        m[k] = l[i]\n",
    "        i += 1\n",
    "        k += 1\n",
    "\n",
    "    while j < n_r:\n",
    "        m[k] = r[j]\n",
    "        j += 1\n",
    "        k += 1\n",
    "\n",
    "    return m, invt\n",
    "\n",
    "\n",
    "doctest.testmod()"
   ]
  },
  {
   "cell_type": "markdown",
   "metadata": {},
   "source": [
    "Now with a divide and conquer approach, we split our original list in half and call `mergeSortInversions` recursively. We use the results with the `mergeInversions` function and sum the inversions from the left and right list with the cross list inversions."
   ]
  },
  {
   "cell_type": "code",
   "execution_count": 3,
   "metadata": {},
   "outputs": [
    {
     "data": {
      "text/plain": [
       "TestResults(failed=0, attempted=6)"
      ]
     },
     "execution_count": 3,
     "metadata": {},
     "output_type": "execute_result"
    }
   ],
   "source": [
    "def mergeSortInversions(a):\n",
    "    \"\"\"\n",
    "    list -> (list,int)\n",
    "\n",
    "    Returns a sorted list and the number of invertions of the original list.\n",
    "\n",
    "    >>> mergeSortInversions([2])\n",
    "    ([2], 0)\n",
    "    >>> mergeSortInversions([3,1])\n",
    "    ([1, 3], 1)\n",
    "    >>> mergeSortInversions([2, 1, 3, 1, 2])\n",
    "    ([1, 1, 2, 2, 3], 4)\n",
    "    \"\"\"\n",
    "    n = len(a)\n",
    "    if n <= 1:\n",
    "        return a, 0\n",
    "    elif n == 2 and a[0] > a[1]:\n",
    "        return [a[1], a[0]], 1\n",
    "\n",
    "    mid = n // 2\n",
    "    left = a[:mid]\n",
    "    right = a[mid:]\n",
    "    left, lInversions = mergeSortInversions(left)\n",
    "    right, rInversions = mergeSortInversions(right)\n",
    "    merged, xInversions = mergeInversions(left, right)\n",
    "\n",
    "    return merged, lInversions + rInversions + xInversions\n",
    "\n",
    "\n",
    "doctest.testmod()"
   ]
  },
  {
   "cell_type": "code",
   "execution_count": 4,
   "metadata": {},
   "outputs": [
    {
     "data": {
      "text/plain": [
       "TestResults(failed=0, attempted=9)"
      ]
     },
     "execution_count": 4,
     "metadata": {},
     "output_type": "execute_result"
    }
   ],
   "source": [
    "def countInversions(a):\n",
    "    \"\"\"\n",
    "    list -> int\n",
    "\n",
    "    Returns the number of invertions presents in the list.\n",
    "\n",
    "    >>> countInversions([2])\n",
    "    0\n",
    "    >>> countInversions([3,1])\n",
    "    1\n",
    "    >>> countInversions([2, 1, 3, 1, 2])\n",
    "    4\n",
    "    \"\"\"\n",
    "    m, inv = mergeSortInversions(a)\n",
    "    return inv\n",
    "\n",
    "\n",
    "doctest.testmod()"
   ]
  },
  {
   "cell_type": "markdown",
   "metadata": {},
   "source": [
    "### Some Unit Testing"
   ]
  },
  {
   "cell_type": "code",
   "execution_count": 5,
   "metadata": {},
   "outputs": [
    {
     "name": "stderr",
     "output_type": "stream",
     "text": [
      "......\n",
      "----------------------------------------------------------------------\n",
      "Ran 6 tests in 0.024s\n",
      "\n",
      "OK\n"
     ]
    }
   ],
   "source": [
    "import unittest\n",
    "\n",
    "class TestCountIversions(unittest.TestCase):\n",
    "    \"\"\"Example unittest test methods for countInversions.\"\"\"\n",
    "\n",
    "    def test_countInversions_example_1(self):\n",
    "        \"\"\"Test countInversions with empty list.\"\"\"\n",
    "\n",
    "        actual = countInversions([])\n",
    "        expected = 0\n",
    "        self.assertEqual(expected, actual)\n",
    "        \n",
    "    def test_countInversions_example_2(self):\n",
    "        \"\"\"Test countInversions with one element list.\"\"\"\n",
    "\n",
    "        actual = countInversions([42])\n",
    "        expected = 0\n",
    "        self.assertEqual(expected, actual)\n",
    "        \n",
    "    def test_countInversions_example_3(self):\n",
    "        \"\"\"Test countInversions with a sorted list.\"\"\"\n",
    "\n",
    "        actual = countInversions([0, 9, 21, 25, 39, 40, 43, 44, 46, 65])\n",
    "        expected = 0\n",
    "        self.assertEqual(expected, actual)\n",
    "        \n",
    "    def test_countInversions_example_4(self):\n",
    "        \"\"\"Test countInversions with a unsorted list with odd number of elements.\"\"\"\n",
    "\n",
    "        actual = countInversions([46, 9, 22, 19, 65, 39, 77])\n",
    "        expected = 6\n",
    "        self.assertEqual(expected, actual)    \n",
    "    \n",
    "    def test_countInversions_example_5(self):\n",
    "        \"\"\"Test countInversions with a unsorted list with even number of elements.\"\"\"\n",
    "\n",
    "        actual = countInversions([1, 46, 9, 22, 19, 65, 39, 77])\n",
    "        expected = 6\n",
    "        self.assertEqual(expected, actual)    \n",
    "    \n",
    "    \n",
    "    def test_countInversions_example_6(self):\n",
    "        \"\"\"Test countInversions with a unsorted list with repeated numbers.\"\"\"\n",
    "\n",
    "        actual = countInversions([46, 9, 9, 9, 65, 39, 77])\n",
    "        expected = 5\n",
    "        self.assertEqual(expected, actual)    \n",
    "        \n",
    "    \n",
    "if __name__ == '__main__':\n",
    "    unittest.main(argv=['first-arg-is-ignored'], exit=False)\n"
   ]
  },
  {
   "cell_type": "markdown",
   "metadata": {},
   "source": [
    "### Discussion\n",
    "\n",
    "   This solution is O(n log n) like mergesort. We split the list ~log n times and in each we call `mergeInversions` that is linear."
   ]
  }
 ],
 "metadata": {
  "kernelspec": {
   "display_name": "Python 3",
   "language": "python",
   "name": "python3"
  },
  "language_info": {
   "codemirror_mode": {
    "name": "ipython",
    "version": 3
   },
   "file_extension": ".py",
   "mimetype": "text/x-python",
   "name": "python",
   "nbconvert_exporter": "python",
   "pygments_lexer": "ipython3",
   "version": "3.6.5"
  },
  "varInspector": {
   "cols": {
    "lenName": "32",
    "lenType": "32",
    "lenVar": 40
   },
   "kernels_config": {
    "python": {
     "delete_cmd_postfix": "",
     "delete_cmd_prefix": "del ",
     "library": "var_list.py",
     "varRefreshCmd": "print(var_dic_list())"
    },
    "r": {
     "delete_cmd_postfix": ") ",
     "delete_cmd_prefix": "rm(",
     "library": "var_list.r",
     "varRefreshCmd": "cat(var_dic_list()) "
    }
   },
   "types_to_exclude": [
    "module",
    "function",
    "builtin_function_or_method",
    "instance",
    "_Feature"
   ],
   "window_display": true
  }
 },
 "nbformat": 4,
 "nbformat_minor": 2
}
